{
  "nbformat": 4,
  "nbformat_minor": 0,
  "metadata": {
    "colab": {
      "provenance": [],
      "include_colab_link": true
    },
    "kernelspec": {
      "name": "python3",
      "display_name": "Python 3"
    },
    "language_info": {
      "name": "python"
    }
  },
  "cells": [
    {
      "cell_type": "markdown",
      "metadata": {
        "id": "view-in-github",
        "colab_type": "text"
      },
      "source": [
        "<a href=\"https://colab.research.google.com/github/eduardoalsilva/introducao-a-ciencia-de-dados/blob/main/Semana_3_Notebook_Videoaula8_Scraping_Introdu%C3%A7%C3%A3o_a_Ci%C3%AAncia_de_Dados_COM350.ipynb\" target=\"_parent\"><img src=\"https://colab.research.google.com/assets/colab-badge.svg\" alt=\"Open In Colab\"/></a>"
      ]
    },
    {
      "cell_type": "markdown",
      "metadata": {
        "id": "wYcAzs093OE9"
      },
      "source": [
        "#Demonstração Scraping\n",
        "###Disciplina - Introdução a Ciência de Dados - Univesp\n",
        "###Videoaula 8\n",
        "###Prof. Dr. José Eduardo Santarem Segundo"
      ]
    },
    {
      "cell_type": "markdown",
      "metadata": {
        "id": "ELZTuC-l5FPW"
      },
      "source": [
        "#Importar as Bibliotecas"
      ]
    },
    {
      "cell_type": "code",
      "metadata": {
        "id": "JT4lG-bL3QN4"
      },
      "source": [
        "import requests\n",
        "from bs4 import BeautifulSoup\n",
        "import pandas as pd"
      ],
      "execution_count": 1,
      "outputs": []
    },
    {
      "cell_type": "markdown",
      "metadata": {
        "id": "_gTPyL615CoT"
      },
      "source": [
        "# Vamos dar uma olhada na página que vamos fazer scraping.\n",
        "###Vamos inspecionar ela!\n",
        "\n",
        "### https://statisticstimes.com/tech/top-computer-languages.php\n",
        "\n",
        "# Depois vamos coletar a página"
      ]
    },
    {
      "cell_type": "code",
      "metadata": {
        "id": "0J92mlCC5KMD"
      },
      "source": [
        "html=requests.get(\"https://statisticstimes.com/tech/top-computer-languages.php\").content\n",
        "soup=BeautifulSoup(html,'html5lib')"
      ],
      "execution_count": 2,
      "outputs": []
    },
    {
      "cell_type": "markdown",
      "metadata": {
        "id": "e8CoTJiD6RCl"
      },
      "source": [
        "#Com a biblioteca Beautifulsoup vamos encontrar o primeiro parágrafo, pegar a tag P"
      ]
    },
    {
      "cell_type": "code",
      "metadata": {
        "id": "Kc8Fb7G96RiG",
        "colab": {
          "base_uri": "https://localhost:8080/"
        },
        "outputId": "4b6c91fa-da63-4990-c2c0-62d394f2fabc"
      },
      "source": [
        "primeiro_paragrafo=soup.find('p')\n",
        "primeiro_paragrafo"
      ],
      "execution_count": 3,
      "outputs": [
        {
          "output_type": "execute_result",
          "data": {
            "text/plain": [
              "<p>Python is the top programming language in TIOBE and PYPL Index. Python has taken a lead of over 6% from C \n",
              "in TIOBE. In PYPL, a gap is much wider as top-ranked Python is ahead close to 12.4% from 2nd ranked Java.</p>"
            ]
          },
          "metadata": {},
          "execution_count": 3
        }
      ]
    },
    {
      "cell_type": "code",
      "metadata": {
        "id": "PPjmpbS16VHx",
        "colab": {
          "base_uri": "https://localhost:8080/",
          "height": 54
        },
        "outputId": "4811c1be-391d-493b-d7de-f8d1b78157ae"
      },
      "source": [
        "primeiro_paragrafo.text"
      ],
      "execution_count": 4,
      "outputs": [
        {
          "output_type": "execute_result",
          "data": {
            "text/plain": [
              "'Python is the top programming language in TIOBE and PYPL Index. Python has taken a lead of over 6% from C \\nin TIOBE. In PYPL, a gap is much wider as top-ranked Python is ahead close to 12.4% from 2nd ranked Java.'"
            ],
            "application/vnd.google.colaboratory.intrinsic+json": {
              "type": "string"
            }
          },
          "metadata": {},
          "execution_count": 4
        }
      ]
    },
    {
      "cell_type": "markdown",
      "metadata": {
        "id": "eVz-dV-O6VTX"
      },
      "source": [
        "#Agora vamos pegar todos os parágrafos (veja a função find_all)"
      ]
    },
    {
      "cell_type": "code",
      "metadata": {
        "id": "I8VqSTQ_6b7w",
        "colab": {
          "base_uri": "https://localhost:8080/"
        },
        "outputId": "1cb440ba-d317-43c8-edf4-0bd3f781f93b"
      },
      "source": [
        "todos_paragrafos=soup.find_all('p')\n",
        "todos_paragrafos"
      ],
      "execution_count": 5,
      "outputs": [
        {
          "output_type": "execute_result",
          "data": {
            "text/plain": [
              "[<p>Python is the top programming language in TIOBE and PYPL Index. Python has taken a lead of over 6% from C \n",
              " in TIOBE. In PYPL, a gap is much wider as top-ranked Python is ahead close to 12.4% from 2nd ranked Java.</p>,\n",
              " <p><b>TIOBE:</b> Python, C, Java, C++ and C# are way ahead of others in TIOBE Index. C, C++ and\n",
              " Java are very close to each other at 2nd, 3rd and 4th number. C++ and C# have positive trends in the past five years. \n",
              " These three have negative trends in the past five years: Java, C, and PHP. PHP hit its lowest position ever in \n",
              " the TIOBE index in April 2024. PHP was at 3rd position in Mar 2010 is now at 17th. \n",
              " Positions of C has not been much affected but rating is constantly declining. The rating\n",
              " of Java has declined from 26.49% in June 2001 to 8.94% in Apr 2024.</p>,\n",
              " <p><b>PYPL:</b> Acc to PYPL, which publishes separate ranking for five countries, Python is the top language in \n",
              " all five countries (US, India, Germany, United Kingdom, France). Python has taken a huge lead in these five \n",
              " countries over the 2nd number of Java, and its shares are even almost double of Java in US \n",
              " and Germany and by four times in France and United Kingdom, These two account for almost 44.5% of the global search. \n",
              " C/C++ and C# are within top five in four countries. JavaScript is within top five in three countries.</p>,\n",
              " <p>PHP is the biggest loser in recent years in PYPL. Its share was over 20% in 2008; now, this fig is only 4.45% in 2024. \n",
              " Java is too declining but not as fast as PHP. Java's contribution was over 31% in 2008, and still, it holds 16.04%. In \n",
              " 2004-2009, 50% of the search was of either Java or PHP.</p>,\n",
              " <p><b>TIOBE Index:</b> TIOBE ratings are calculated by counting hits of the most popular search engines. Twenty-five \n",
              " search engines are used to calculate the TIOBE index. The TIOBE Programming Community index is an indicator of the\n",
              "  popularity of programming languages. The index started in the year 2001 and updated once a month.</p>,\n",
              " <p><b>PYPL Index:</b> The PYPL PopularitY of Programming Language Index is created by analyzing how often language\n",
              "  tutorials are searched on Google. The index is updated once a month.</p>]"
            ]
          },
          "metadata": {},
          "execution_count": 5
        }
      ]
    },
    {
      "cell_type": "code",
      "metadata": {
        "id": "orje9kZ26lC9",
        "colab": {
          "base_uri": "https://localhost:8080/"
        },
        "outputId": "819c7d9e-7fad-4e68-df36-f77986d4b9ba"
      },
      "source": [
        "todos_paragrafos[2]"
      ],
      "execution_count": 6,
      "outputs": [
        {
          "output_type": "execute_result",
          "data": {
            "text/plain": [
              "<p><b>PYPL:</b> Acc to PYPL, which publishes separate ranking for five countries, Python is the top language in \n",
              "all five countries (US, India, Germany, United Kingdom, France). Python has taken a huge lead in these five \n",
              "countries over the 2nd number of Java, and its shares are even almost double of Java in US \n",
              "and Germany and by four times in France and United Kingdom, These two account for almost 44.5% of the global search. \n",
              "C/C++ and C# are within top five in four countries. JavaScript is within top five in three countries.</p>"
            ]
          },
          "metadata": {},
          "execution_count": 6
        }
      ]
    },
    {
      "cell_type": "markdown",
      "metadata": {
        "id": "FhGX6BN86lNJ"
      },
      "source": [
        "#Agora vamos pegar todos links"
      ]
    },
    {
      "cell_type": "code",
      "metadata": {
        "id": "GhfD7vG9lIpc",
        "colab": {
          "base_uri": "https://localhost:8080/"
        },
        "outputId": "72b59add-b70e-4847-c229-781462433f08"
      },
      "source": [
        "todoslinks=soup.find_all('a')\n",
        "todoslinks"
      ],
      "execution_count": 7,
      "outputs": [
        {
          "output_type": "execute_result",
          "data": {
            "text/plain": [
              "[<a href=\"/index.php\">\n",
              " <img alt=\"statisticstimes\" height=\"90\" src=\"/statistics.png\" width=\"200\"/>\n",
              " </a>,\n",
              " <a href=\"/index.php\">World</a>,\n",
              " <a href=\"/india.php\">India</a>,\n",
              " <a href=\"/economy/world-statistics.php\">World</a>,\n",
              " <a href=\"/economy/country-statistics.php\">Country</a>,\n",
              " <a href=\"/economy/india-statistics.php\">India</a>,\n",
              " <a href=\"/demographics/world-statistics.php\">World</a>,\n",
              " <a href=\"/demographics/country-statistics.php\">Country</a>,\n",
              " <a href=\"/demographics/india-statistics.php\">India</a>,\n",
              " <a href=\"/politics/india-statistics.php\">India</a>,\n",
              " <a href=\"/geography/world-statistics.php\">World</a>,\n",
              " <a href=\"/geography/india-statistics.php\">India</a>,\n",
              " <a href=\"/tech/world-statistics.php\">Tech</a>,\n",
              " <a href=\"/sports/world-statistics.php\">World</a>,\n",
              " <a href=\"/sports/india-statistics.php\">India</a>,\n",
              " <a href=\"/ranking/world-statistics.php\">Ranking</a>,\n",
              " <a href=\"/article/world-statistics.php\">World</a>,\n",
              " <a href=\"/article/india-statistics.php\">India</a>,\n",
              " <a href=\"https://www.tiobe.com/tiobe-index/\" target=\"_blank\">TIOBE Index</a>,\n",
              " <a href=\"http://pypl.github.io/PYPL.html\" target=\"_blank\">PYPL PopularitY of Programming Language Index</a>,\n",
              " <a class=\"ls\" href=\"/sports/ipl/ipl-2024.php\">\n",
              "        IPL 2024</a>,\n",
              " <a class=\"ls\" href=\"/economy/continents-by-gdp-per-capita.php\">\n",
              "        List of continents by gdp per capita</a>,\n",
              " <a class=\"ls\" href=\"/economy/largest-economies-in-the-world.php\">\n",
              "        Top 10 largest economies by GDP</a>,\n",
              " <a href=\"/about.php\" style=\"text-decoration: none;\"> About US</a>,\n",
              " <a href=\"/termsofuse.php\" style=\"text-decoration: none;\"> Terms Of Use </a>,\n",
              " <a href=\"/privacy.php\" style=\"text-decoration: none;\"> Privacy Policy </a>,\n",
              " <a href=\"/contact.php\" style=\"text-decoration: none;\"> Contact Us </a>]"
            ]
          },
          "metadata": {},
          "execution_count": 7
        }
      ]
    },
    {
      "cell_type": "markdown",
      "metadata": {
        "id": "eGtHJCf9nZ9L"
      },
      "source": [
        "#Vamos inspecionar a tabela, pra pegar os dados da tabela \"PYPL Index (Worldwide)\""
      ]
    },
    {
      "cell_type": "code",
      "metadata": {
        "id": "-YlaRPBUnaXq",
        "colab": {
          "base_uri": "https://localhost:8080/"
        },
        "outputId": "722d77a9-0b67-4508-dfb8-4433d8766553"
      },
      "source": [
        "tabela=soup.find('table',{'id':'table_id1'}).find('tbody')\n",
        "tabela"
      ],
      "execution_count": 8,
      "outputs": [
        {
          "output_type": "execute_result",
          "data": {
            "text/plain": [
              "<tbody>\n",
              "<tr><td class=\"data1\">1</td><td class=\"data1\"></td><td class=\"name\">Python</td><td class=\"data1\"> 28.43 %</td><td class=\"data1\">+0.7 %</td></tr>\n",
              "<tr><td class=\"data1\">2</td><td class=\"data1\"></td><td class=\"name\">Java</td><td class=\"data1\"> 16.04 %</td><td class=\"data1\">-0.1 %</td></tr>\n",
              "<tr><td class=\"data1\">3</td><td class=\"data1\"></td><td class=\"name\">JavaScript</td><td class=\"data1\"> 8.72 %</td><td class=\"data1\">-0.8 %</td></tr>\n",
              "<tr><td class=\"data1\">4</td><td class=\"data1\">↑</td><td class=\"name\">C/C++</td><td class=\"data1\"> 6.65 %</td><td class=\"data1\">+0.2 %</td></tr>\n",
              "<tr><td class=\"data1\">5</td><td class=\"data1\">↓</td><td class=\"name\">C#</td><td class=\"data1\"> 6.63 %</td><td class=\"data1\">-0.2 %</td></tr>\n",
              "<tr><td class=\"data1\">6</td><td class=\"data1\">↑</td><td class=\"name\">R</td><td class=\"data1\"> 4.63 %</td><td class=\"data1\">+0.2 %</td></tr>\n",
              "<tr><td class=\"data1\">7</td><td class=\"data1\">↓</td><td class=\"name\">PHP</td><td class=\"data1\"> 4.45 %</td><td class=\"data1\">-0.7 %</td></tr>\n",
              "<tr><td class=\"data1\">8</td><td class=\"data1\"></td><td class=\"name\">TypeScript</td><td class=\"data1\"> 2.96 %</td><td class=\"data1\">+0.0 %</td></tr>\n",
              "<tr><td class=\"data1\">9</td><td class=\"data1\"></td><td class=\"name\">Swift</td><td class=\"data1\"> 2.71 %</td><td class=\"data1\">+0.4 %</td></tr>\n",
              "<tr><td class=\"data1\">10</td><td class=\"data1\"></td><td class=\"name\">Rust</td><td class=\"data1\"> 2.53 %</td><td class=\"data1\">+0.4 %</td></tr>\n",
              "<tr><td class=\"data1\">11</td><td class=\"data1\"></td><td class=\"name\">Objective-C</td><td class=\"data1\"> 2.43 %</td><td class=\"data1\">+0.3 %</td></tr>\n",
              "<tr><td class=\"data1\">12</td><td class=\"data1\"></td><td class=\"name\">Go</td><td class=\"data1\"> 2.16 %</td><td class=\"data1\">+0.2 %</td></tr>\n",
              "<tr><td class=\"data1\">13</td><td class=\"data1\"></td><td class=\"name\">Kotlin</td><td class=\"data1\"> 1.93 %</td><td class=\"data1\">+0.0 %</td></tr>\n",
              "<tr><td class=\"data1\">14</td><td class=\"data1\"></td><td class=\"name\">Matlab</td><td class=\"data1\"> 1.54 %</td><td class=\"data1\">-0.1 %</td></tr>\n",
              "<tr><td class=\"data1\">15</td><td class=\"data1\">↑↑↑↑</td><td class=\"name\">Dart</td><td class=\"data1\"> 1.01 %</td><td class=\"data1\">+0.2 %</td></tr>\n",
              "<tr><td class=\"data1\">16</td><td class=\"data1\"></td><td class=\"name\">Ada</td><td class=\"data1\"> 0.99 %</td><td class=\"data1\">-0.0 %</td></tr>\n",
              "<tr><td class=\"data1\">17</td><td class=\"data1\">↓↓</td><td class=\"name\">Ruby</td><td class=\"data1\"> 0.97 %</td><td class=\"data1\">-0.1 %</td></tr>\n",
              "<tr><td class=\"data1\">18</td><td class=\"data1\">↓</td><td class=\"name\">VBA</td><td class=\"data1\"> 0.91 %</td><td class=\"data1\">-0.0 %</td></tr>\n",
              "<tr><td class=\"data1\">19</td><td class=\"data1\">↓</td><td class=\"name\">Powershell</td><td class=\"data1\"> 0.76 %</td><td class=\"data1\">-0.2 %</td></tr>\n",
              "<tr><td class=\"data1\">20</td><td class=\"data1\">↑</td><td class=\"name\">Lua</td><td class=\"data1\"> 0.61 %</td><td class=\"data1\">+0.0 %</td></tr>\n",
              "<tr><td class=\"data1\">21</td><td class=\"data1\">↑↑</td><td class=\"name\">Abap</td><td class=\"data1\"> 0.6 %</td><td class=\"data1\">+0.1 %</td></tr>\n",
              "<tr><td class=\"data1\">22</td><td class=\"data1\">↓↓</td><td class=\"name\">Scala</td><td class=\"data1\"> 0.58 %</td><td class=\"data1\">-0.1 %</td></tr>\n",
              "<tr><td class=\"data1\">23</td><td class=\"data1\">↓</td><td class=\"name\">Visual Basic</td><td class=\"data1\"> 0.42 %</td><td class=\"data1\">-0.2 %</td></tr>\n",
              "<tr><td class=\"data1\">24</td><td class=\"data1\">↑</td><td class=\"name\">Groovy</td><td class=\"data1\"> 0.35 %</td><td class=\"data1\">-0.0 %</td></tr>\n",
              "<tr><td class=\"data1\">25</td><td class=\"data1\">↓</td><td class=\"name\">Julia</td><td class=\"data1\"> 0.33 %</td><td class=\"data1\">-0.1 %</td></tr>\n",
              "<tr><td class=\"data1\">26</td><td class=\"data1\"></td><td class=\"name\">Perl</td><td class=\"data1\"> 0.22 %</td><td class=\"data1\">-0.1 %</td></tr>\n",
              "<tr><td class=\"data1\">27</td><td class=\"data1\">↑</td><td class=\"name\">Haskell</td><td class=\"data1\"> 0.17 %</td><td class=\"data1\">-0.1 %</td></tr>\n",
              "<tr><td class=\"data1\">28</td><td class=\"data1\">↓</td><td class=\"name\">Cobol</td><td class=\"data1\"> 0.14 %</td><td class=\"data1\">-0.2 %</td></tr>\n",
              "<tr><td class=\"data1\">29</td><td class=\"data1\"></td><td class=\"name\">Delphi/Pascal</td><td class=\"data1\"> 0.13 %</td><td class=\"data1\">-0.0 %</td></tr>\n",
              "</tbody>"
            ]
          },
          "metadata": {},
          "execution_count": 8
        }
      ]
    },
    {
      "cell_type": "code",
      "metadata": {
        "id": "A8fvOaE1oc7u",
        "colab": {
          "base_uri": "https://localhost:8080/"
        },
        "outputId": "89f50a76-6f05-437b-c103-adaf0ff8ff73"
      },
      "source": [
        "linhas=tabela.find_all('tr')\n",
        "for linha in linhas:\n",
        "    dado=linha.find_all('td')\n",
        "    print(dado[0].text)\n",
        "    print(dado[2].text)\n",
        "    print(dado[3].text)\n",
        "    print('-----')"
      ],
      "execution_count": 9,
      "outputs": [
        {
          "output_type": "stream",
          "name": "stdout",
          "text": [
            "1\n",
            "Python\n",
            " 28.43 %\n",
            "-----\n",
            "2\n",
            "Java\n",
            " 16.04 %\n",
            "-----\n",
            "3\n",
            "JavaScript\n",
            " 8.72 %\n",
            "-----\n",
            "4\n",
            "C/C++\n",
            " 6.65 %\n",
            "-----\n",
            "5\n",
            "C#\n",
            " 6.63 %\n",
            "-----\n",
            "6\n",
            "R\n",
            " 4.63 %\n",
            "-----\n",
            "7\n",
            "PHP\n",
            " 4.45 %\n",
            "-----\n",
            "8\n",
            "TypeScript\n",
            " 2.96 %\n",
            "-----\n",
            "9\n",
            "Swift\n",
            " 2.71 %\n",
            "-----\n",
            "10\n",
            "Rust\n",
            " 2.53 %\n",
            "-----\n",
            "11\n",
            "Objective-C\n",
            " 2.43 %\n",
            "-----\n",
            "12\n",
            "Go\n",
            " 2.16 %\n",
            "-----\n",
            "13\n",
            "Kotlin\n",
            " 1.93 %\n",
            "-----\n",
            "14\n",
            "Matlab\n",
            " 1.54 %\n",
            "-----\n",
            "15\n",
            "Dart\n",
            " 1.01 %\n",
            "-----\n",
            "16\n",
            "Ada\n",
            " 0.99 %\n",
            "-----\n",
            "17\n",
            "Ruby\n",
            " 0.97 %\n",
            "-----\n",
            "18\n",
            "VBA\n",
            " 0.91 %\n",
            "-----\n",
            "19\n",
            "Powershell\n",
            " 0.76 %\n",
            "-----\n",
            "20\n",
            "Lua\n",
            " 0.61 %\n",
            "-----\n",
            "21\n",
            "Abap\n",
            " 0.6 %\n",
            "-----\n",
            "22\n",
            "Scala\n",
            " 0.58 %\n",
            "-----\n",
            "23\n",
            "Visual Basic\n",
            " 0.42 %\n",
            "-----\n",
            "24\n",
            "Groovy\n",
            " 0.35 %\n",
            "-----\n",
            "25\n",
            "Julia\n",
            " 0.33 %\n",
            "-----\n",
            "26\n",
            "Perl\n",
            " 0.22 %\n",
            "-----\n",
            "27\n",
            "Haskell\n",
            " 0.17 %\n",
            "-----\n",
            "28\n",
            "Cobol\n",
            " 0.14 %\n",
            "-----\n",
            "29\n",
            "Delphi/Pascal\n",
            " 0.13 %\n",
            "-----\n"
          ]
        }
      ]
    },
    {
      "cell_type": "markdown",
      "metadata": {
        "id": "prfim75WodDS"
      },
      "source": [
        "#Montar uma lista de linguagens e de porcentagem com os dados, para depois compor um dataframe"
      ]
    },
    {
      "cell_type": "code",
      "metadata": {
        "id": "2QvYFpRdodb6"
      },
      "source": [
        "linguagem=[]\n",
        "pontos=[]\n",
        "for linha in linhas:\n",
        "    dado=linha.find_all('td')\n",
        "    linguagem.append(dado[2].text)\n",
        "    pontos.append(dado[3].text)"
      ],
      "execution_count": 10,
      "outputs": []
    },
    {
      "cell_type": "code",
      "metadata": {
        "id": "Ukhj3LR_oiMh",
        "colab": {
          "base_uri": "https://localhost:8080/"
        },
        "outputId": "68c2a8ca-fd31-40da-efeb-0dc3d755c125"
      },
      "source": [
        "print(linguagem)\n",
        "print (pontos)"
      ],
      "execution_count": 11,
      "outputs": [
        {
          "output_type": "stream",
          "name": "stdout",
          "text": [
            "['Python', 'Java', 'JavaScript', 'C/C++', 'C#', 'R', 'PHP', 'TypeScript', 'Swift', 'Rust', 'Objective-C', 'Go', 'Kotlin', 'Matlab', 'Dart', 'Ada', 'Ruby', 'VBA', 'Powershell', 'Lua', 'Abap', 'Scala', 'Visual Basic', 'Groovy', 'Julia', 'Perl', 'Haskell', 'Cobol', 'Delphi/Pascal']\n",
            "[' 28.43 %', ' 16.04 %', ' 8.72 %', ' 6.65 %', ' 6.63 %', ' 4.63 %', ' 4.45 %', ' 2.96 %', ' 2.71 %', ' 2.53 %', ' 2.43 %', ' 2.16 %', ' 1.93 %', ' 1.54 %', ' 1.01 %', ' 0.99 %', ' 0.97 %', ' 0.91 %', ' 0.76 %', ' 0.61 %', ' 0.6 %', ' 0.58 %', ' 0.42 %', ' 0.35 %', ' 0.33 %', ' 0.22 %', ' 0.17 %', ' 0.14 %', ' 0.13 %']\n"
          ]
        }
      ]
    },
    {
      "cell_type": "code",
      "metadata": {
        "id": "GMOvcQvpoiWv"
      },
      "source": [
        "dados=pd.DataFrame(linguagem, columns=['Linguagem'])"
      ],
      "execution_count": 12,
      "outputs": []
    },
    {
      "cell_type": "code",
      "metadata": {
        "id": "x-sEc_CsoieS"
      },
      "source": [
        "dados['Pontos']=pontos"
      ],
      "execution_count": 13,
      "outputs": []
    },
    {
      "cell_type": "code",
      "metadata": {
        "id": "Vuiu4Opkoio_",
        "colab": {
          "base_uri": "https://localhost:8080/",
          "height": 959
        },
        "outputId": "8c40e8f8-4123-473e-ab46-228a148008bf"
      },
      "source": [
        "dados"
      ],
      "execution_count": 14,
      "outputs": [
        {
          "output_type": "execute_result",
          "data": {
            "text/plain": [
              "        Linguagem    Pontos\n",
              "0          Python   28.43 %\n",
              "1            Java   16.04 %\n",
              "2      JavaScript    8.72 %\n",
              "3           C/C++    6.65 %\n",
              "4              C#    6.63 %\n",
              "5               R    4.63 %\n",
              "6             PHP    4.45 %\n",
              "7      TypeScript    2.96 %\n",
              "8           Swift    2.71 %\n",
              "9            Rust    2.53 %\n",
              "10    Objective-C    2.43 %\n",
              "11             Go    2.16 %\n",
              "12         Kotlin    1.93 %\n",
              "13         Matlab    1.54 %\n",
              "14           Dart    1.01 %\n",
              "15            Ada    0.99 %\n",
              "16           Ruby    0.97 %\n",
              "17            VBA    0.91 %\n",
              "18     Powershell    0.76 %\n",
              "19            Lua    0.61 %\n",
              "20           Abap     0.6 %\n",
              "21          Scala    0.58 %\n",
              "22   Visual Basic    0.42 %\n",
              "23         Groovy    0.35 %\n",
              "24          Julia    0.33 %\n",
              "25           Perl    0.22 %\n",
              "26        Haskell    0.17 %\n",
              "27          Cobol    0.14 %\n",
              "28  Delphi/Pascal    0.13 %"
            ],
            "text/html": [
              "\n",
              "  <div id=\"df-543ea30e-5825-447f-9861-b78283fdd149\" class=\"colab-df-container\">\n",
              "    <div>\n",
              "<style scoped>\n",
              "    .dataframe tbody tr th:only-of-type {\n",
              "        vertical-align: middle;\n",
              "    }\n",
              "\n",
              "    .dataframe tbody tr th {\n",
              "        vertical-align: top;\n",
              "    }\n",
              "\n",
              "    .dataframe thead th {\n",
              "        text-align: right;\n",
              "    }\n",
              "</style>\n",
              "<table border=\"1\" class=\"dataframe\">\n",
              "  <thead>\n",
              "    <tr style=\"text-align: right;\">\n",
              "      <th></th>\n",
              "      <th>Linguagem</th>\n",
              "      <th>Pontos</th>\n",
              "    </tr>\n",
              "  </thead>\n",
              "  <tbody>\n",
              "    <tr>\n",
              "      <th>0</th>\n",
              "      <td>Python</td>\n",
              "      <td>28.43 %</td>\n",
              "    </tr>\n",
              "    <tr>\n",
              "      <th>1</th>\n",
              "      <td>Java</td>\n",
              "      <td>16.04 %</td>\n",
              "    </tr>\n",
              "    <tr>\n",
              "      <th>2</th>\n",
              "      <td>JavaScript</td>\n",
              "      <td>8.72 %</td>\n",
              "    </tr>\n",
              "    <tr>\n",
              "      <th>3</th>\n",
              "      <td>C/C++</td>\n",
              "      <td>6.65 %</td>\n",
              "    </tr>\n",
              "    <tr>\n",
              "      <th>4</th>\n",
              "      <td>C#</td>\n",
              "      <td>6.63 %</td>\n",
              "    </tr>\n",
              "    <tr>\n",
              "      <th>5</th>\n",
              "      <td>R</td>\n",
              "      <td>4.63 %</td>\n",
              "    </tr>\n",
              "    <tr>\n",
              "      <th>6</th>\n",
              "      <td>PHP</td>\n",
              "      <td>4.45 %</td>\n",
              "    </tr>\n",
              "    <tr>\n",
              "      <th>7</th>\n",
              "      <td>TypeScript</td>\n",
              "      <td>2.96 %</td>\n",
              "    </tr>\n",
              "    <tr>\n",
              "      <th>8</th>\n",
              "      <td>Swift</td>\n",
              "      <td>2.71 %</td>\n",
              "    </tr>\n",
              "    <tr>\n",
              "      <th>9</th>\n",
              "      <td>Rust</td>\n",
              "      <td>2.53 %</td>\n",
              "    </tr>\n",
              "    <tr>\n",
              "      <th>10</th>\n",
              "      <td>Objective-C</td>\n",
              "      <td>2.43 %</td>\n",
              "    </tr>\n",
              "    <tr>\n",
              "      <th>11</th>\n",
              "      <td>Go</td>\n",
              "      <td>2.16 %</td>\n",
              "    </tr>\n",
              "    <tr>\n",
              "      <th>12</th>\n",
              "      <td>Kotlin</td>\n",
              "      <td>1.93 %</td>\n",
              "    </tr>\n",
              "    <tr>\n",
              "      <th>13</th>\n",
              "      <td>Matlab</td>\n",
              "      <td>1.54 %</td>\n",
              "    </tr>\n",
              "    <tr>\n",
              "      <th>14</th>\n",
              "      <td>Dart</td>\n",
              "      <td>1.01 %</td>\n",
              "    </tr>\n",
              "    <tr>\n",
              "      <th>15</th>\n",
              "      <td>Ada</td>\n",
              "      <td>0.99 %</td>\n",
              "    </tr>\n",
              "    <tr>\n",
              "      <th>16</th>\n",
              "      <td>Ruby</td>\n",
              "      <td>0.97 %</td>\n",
              "    </tr>\n",
              "    <tr>\n",
              "      <th>17</th>\n",
              "      <td>VBA</td>\n",
              "      <td>0.91 %</td>\n",
              "    </tr>\n",
              "    <tr>\n",
              "      <th>18</th>\n",
              "      <td>Powershell</td>\n",
              "      <td>0.76 %</td>\n",
              "    </tr>\n",
              "    <tr>\n",
              "      <th>19</th>\n",
              "      <td>Lua</td>\n",
              "      <td>0.61 %</td>\n",
              "    </tr>\n",
              "    <tr>\n",
              "      <th>20</th>\n",
              "      <td>Abap</td>\n",
              "      <td>0.6 %</td>\n",
              "    </tr>\n",
              "    <tr>\n",
              "      <th>21</th>\n",
              "      <td>Scala</td>\n",
              "      <td>0.58 %</td>\n",
              "    </tr>\n",
              "    <tr>\n",
              "      <th>22</th>\n",
              "      <td>Visual Basic</td>\n",
              "      <td>0.42 %</td>\n",
              "    </tr>\n",
              "    <tr>\n",
              "      <th>23</th>\n",
              "      <td>Groovy</td>\n",
              "      <td>0.35 %</td>\n",
              "    </tr>\n",
              "    <tr>\n",
              "      <th>24</th>\n",
              "      <td>Julia</td>\n",
              "      <td>0.33 %</td>\n",
              "    </tr>\n",
              "    <tr>\n",
              "      <th>25</th>\n",
              "      <td>Perl</td>\n",
              "      <td>0.22 %</td>\n",
              "    </tr>\n",
              "    <tr>\n",
              "      <th>26</th>\n",
              "      <td>Haskell</td>\n",
              "      <td>0.17 %</td>\n",
              "    </tr>\n",
              "    <tr>\n",
              "      <th>27</th>\n",
              "      <td>Cobol</td>\n",
              "      <td>0.14 %</td>\n",
              "    </tr>\n",
              "    <tr>\n",
              "      <th>28</th>\n",
              "      <td>Delphi/Pascal</td>\n",
              "      <td>0.13 %</td>\n",
              "    </tr>\n",
              "  </tbody>\n",
              "</table>\n",
              "</div>\n",
              "    <div class=\"colab-df-buttons\">\n",
              "\n",
              "  <div class=\"colab-df-container\">\n",
              "    <button class=\"colab-df-convert\" onclick=\"convertToInteractive('df-543ea30e-5825-447f-9861-b78283fdd149')\"\n",
              "            title=\"Convert this dataframe to an interactive table.\"\n",
              "            style=\"display:none;\">\n",
              "\n",
              "  <svg xmlns=\"http://www.w3.org/2000/svg\" height=\"24px\" viewBox=\"0 -960 960 960\">\n",
              "    <path d=\"M120-120v-720h720v720H120Zm60-500h600v-160H180v160Zm220 220h160v-160H400v160Zm0 220h160v-160H400v160ZM180-400h160v-160H180v160Zm440 0h160v-160H620v160ZM180-180h160v-160H180v160Zm440 0h160v-160H620v160Z\"/>\n",
              "  </svg>\n",
              "    </button>\n",
              "\n",
              "  <style>\n",
              "    .colab-df-container {\n",
              "      display:flex;\n",
              "      gap: 12px;\n",
              "    }\n",
              "\n",
              "    .colab-df-convert {\n",
              "      background-color: #E8F0FE;\n",
              "      border: none;\n",
              "      border-radius: 50%;\n",
              "      cursor: pointer;\n",
              "      display: none;\n",
              "      fill: #1967D2;\n",
              "      height: 32px;\n",
              "      padding: 0 0 0 0;\n",
              "      width: 32px;\n",
              "    }\n",
              "\n",
              "    .colab-df-convert:hover {\n",
              "      background-color: #E2EBFA;\n",
              "      box-shadow: 0px 1px 2px rgba(60, 64, 67, 0.3), 0px 1px 3px 1px rgba(60, 64, 67, 0.15);\n",
              "      fill: #174EA6;\n",
              "    }\n",
              "\n",
              "    .colab-df-buttons div {\n",
              "      margin-bottom: 4px;\n",
              "    }\n",
              "\n",
              "    [theme=dark] .colab-df-convert {\n",
              "      background-color: #3B4455;\n",
              "      fill: #D2E3FC;\n",
              "    }\n",
              "\n",
              "    [theme=dark] .colab-df-convert:hover {\n",
              "      background-color: #434B5C;\n",
              "      box-shadow: 0px 1px 3px 1px rgba(0, 0, 0, 0.15);\n",
              "      filter: drop-shadow(0px 1px 2px rgba(0, 0, 0, 0.3));\n",
              "      fill: #FFFFFF;\n",
              "    }\n",
              "  </style>\n",
              "\n",
              "    <script>\n",
              "      const buttonEl =\n",
              "        document.querySelector('#df-543ea30e-5825-447f-9861-b78283fdd149 button.colab-df-convert');\n",
              "      buttonEl.style.display =\n",
              "        google.colab.kernel.accessAllowed ? 'block' : 'none';\n",
              "\n",
              "      async function convertToInteractive(key) {\n",
              "        const element = document.querySelector('#df-543ea30e-5825-447f-9861-b78283fdd149');\n",
              "        const dataTable =\n",
              "          await google.colab.kernel.invokeFunction('convertToInteractive',\n",
              "                                                    [key], {});\n",
              "        if (!dataTable) return;\n",
              "\n",
              "        const docLinkHtml = 'Like what you see? Visit the ' +\n",
              "          '<a target=\"_blank\" href=https://colab.research.google.com/notebooks/data_table.ipynb>data table notebook</a>'\n",
              "          + ' to learn more about interactive tables.';\n",
              "        element.innerHTML = '';\n",
              "        dataTable['output_type'] = 'display_data';\n",
              "        await google.colab.output.renderOutput(dataTable, element);\n",
              "        const docLink = document.createElement('div');\n",
              "        docLink.innerHTML = docLinkHtml;\n",
              "        element.appendChild(docLink);\n",
              "      }\n",
              "    </script>\n",
              "  </div>\n",
              "\n",
              "\n",
              "<div id=\"df-8a47ca09-8e98-4f12-941b-92d2b5a435fd\">\n",
              "  <button class=\"colab-df-quickchart\" onclick=\"quickchart('df-8a47ca09-8e98-4f12-941b-92d2b5a435fd')\"\n",
              "            title=\"Suggest charts\"\n",
              "            style=\"display:none;\">\n",
              "\n",
              "<svg xmlns=\"http://www.w3.org/2000/svg\" height=\"24px\"viewBox=\"0 0 24 24\"\n",
              "     width=\"24px\">\n",
              "    <g>\n",
              "        <path d=\"M19 3H5c-1.1 0-2 .9-2 2v14c0 1.1.9 2 2 2h14c1.1 0 2-.9 2-2V5c0-1.1-.9-2-2-2zM9 17H7v-7h2v7zm4 0h-2V7h2v10zm4 0h-2v-4h2v4z\"/>\n",
              "    </g>\n",
              "</svg>\n",
              "  </button>\n",
              "\n",
              "<style>\n",
              "  .colab-df-quickchart {\n",
              "      --bg-color: #E8F0FE;\n",
              "      --fill-color: #1967D2;\n",
              "      --hover-bg-color: #E2EBFA;\n",
              "      --hover-fill-color: #174EA6;\n",
              "      --disabled-fill-color: #AAA;\n",
              "      --disabled-bg-color: #DDD;\n",
              "  }\n",
              "\n",
              "  [theme=dark] .colab-df-quickchart {\n",
              "      --bg-color: #3B4455;\n",
              "      --fill-color: #D2E3FC;\n",
              "      --hover-bg-color: #434B5C;\n",
              "      --hover-fill-color: #FFFFFF;\n",
              "      --disabled-bg-color: #3B4455;\n",
              "      --disabled-fill-color: #666;\n",
              "  }\n",
              "\n",
              "  .colab-df-quickchart {\n",
              "    background-color: var(--bg-color);\n",
              "    border: none;\n",
              "    border-radius: 50%;\n",
              "    cursor: pointer;\n",
              "    display: none;\n",
              "    fill: var(--fill-color);\n",
              "    height: 32px;\n",
              "    padding: 0;\n",
              "    width: 32px;\n",
              "  }\n",
              "\n",
              "  .colab-df-quickchart:hover {\n",
              "    background-color: var(--hover-bg-color);\n",
              "    box-shadow: 0 1px 2px rgba(60, 64, 67, 0.3), 0 1px 3px 1px rgba(60, 64, 67, 0.15);\n",
              "    fill: var(--button-hover-fill-color);\n",
              "  }\n",
              "\n",
              "  .colab-df-quickchart-complete:disabled,\n",
              "  .colab-df-quickchart-complete:disabled:hover {\n",
              "    background-color: var(--disabled-bg-color);\n",
              "    fill: var(--disabled-fill-color);\n",
              "    box-shadow: none;\n",
              "  }\n",
              "\n",
              "  .colab-df-spinner {\n",
              "    border: 2px solid var(--fill-color);\n",
              "    border-color: transparent;\n",
              "    border-bottom-color: var(--fill-color);\n",
              "    animation:\n",
              "      spin 1s steps(1) infinite;\n",
              "  }\n",
              "\n",
              "  @keyframes spin {\n",
              "    0% {\n",
              "      border-color: transparent;\n",
              "      border-bottom-color: var(--fill-color);\n",
              "      border-left-color: var(--fill-color);\n",
              "    }\n",
              "    20% {\n",
              "      border-color: transparent;\n",
              "      border-left-color: var(--fill-color);\n",
              "      border-top-color: var(--fill-color);\n",
              "    }\n",
              "    30% {\n",
              "      border-color: transparent;\n",
              "      border-left-color: var(--fill-color);\n",
              "      border-top-color: var(--fill-color);\n",
              "      border-right-color: var(--fill-color);\n",
              "    }\n",
              "    40% {\n",
              "      border-color: transparent;\n",
              "      border-right-color: var(--fill-color);\n",
              "      border-top-color: var(--fill-color);\n",
              "    }\n",
              "    60% {\n",
              "      border-color: transparent;\n",
              "      border-right-color: var(--fill-color);\n",
              "    }\n",
              "    80% {\n",
              "      border-color: transparent;\n",
              "      border-right-color: var(--fill-color);\n",
              "      border-bottom-color: var(--fill-color);\n",
              "    }\n",
              "    90% {\n",
              "      border-color: transparent;\n",
              "      border-bottom-color: var(--fill-color);\n",
              "    }\n",
              "  }\n",
              "</style>\n",
              "\n",
              "  <script>\n",
              "    async function quickchart(key) {\n",
              "      const quickchartButtonEl =\n",
              "        document.querySelector('#' + key + ' button');\n",
              "      quickchartButtonEl.disabled = true;  // To prevent multiple clicks.\n",
              "      quickchartButtonEl.classList.add('colab-df-spinner');\n",
              "      try {\n",
              "        const charts = await google.colab.kernel.invokeFunction(\n",
              "            'suggestCharts', [key], {});\n",
              "      } catch (error) {\n",
              "        console.error('Error during call to suggestCharts:', error);\n",
              "      }\n",
              "      quickchartButtonEl.classList.remove('colab-df-spinner');\n",
              "      quickchartButtonEl.classList.add('colab-df-quickchart-complete');\n",
              "    }\n",
              "    (() => {\n",
              "      let quickchartButtonEl =\n",
              "        document.querySelector('#df-8a47ca09-8e98-4f12-941b-92d2b5a435fd button');\n",
              "      quickchartButtonEl.style.display =\n",
              "        google.colab.kernel.accessAllowed ? 'block' : 'none';\n",
              "    })();\n",
              "  </script>\n",
              "</div>\n",
              "\n",
              "  <div id=\"id_8d5d65bb-fc49-44d9-bad8-e4693258d907\">\n",
              "    <style>\n",
              "      .colab-df-generate {\n",
              "        background-color: #E8F0FE;\n",
              "        border: none;\n",
              "        border-radius: 50%;\n",
              "        cursor: pointer;\n",
              "        display: none;\n",
              "        fill: #1967D2;\n",
              "        height: 32px;\n",
              "        padding: 0 0 0 0;\n",
              "        width: 32px;\n",
              "      }\n",
              "\n",
              "      .colab-df-generate:hover {\n",
              "        background-color: #E2EBFA;\n",
              "        box-shadow: 0px 1px 2px rgba(60, 64, 67, 0.3), 0px 1px 3px 1px rgba(60, 64, 67, 0.15);\n",
              "        fill: #174EA6;\n",
              "      }\n",
              "\n",
              "      [theme=dark] .colab-df-generate {\n",
              "        background-color: #3B4455;\n",
              "        fill: #D2E3FC;\n",
              "      }\n",
              "\n",
              "      [theme=dark] .colab-df-generate:hover {\n",
              "        background-color: #434B5C;\n",
              "        box-shadow: 0px 1px 3px 1px rgba(0, 0, 0, 0.15);\n",
              "        filter: drop-shadow(0px 1px 2px rgba(0, 0, 0, 0.3));\n",
              "        fill: #FFFFFF;\n",
              "      }\n",
              "    </style>\n",
              "    <button class=\"colab-df-generate\" onclick=\"generateWithVariable('dados')\"\n",
              "            title=\"Generate code using this dataframe.\"\n",
              "            style=\"display:none;\">\n",
              "\n",
              "  <svg xmlns=\"http://www.w3.org/2000/svg\" height=\"24px\"viewBox=\"0 0 24 24\"\n",
              "       width=\"24px\">\n",
              "    <path d=\"M7,19H8.4L18.45,9,17,7.55,7,17.6ZM5,21V16.75L18.45,3.32a2,2,0,0,1,2.83,0l1.4,1.43a1.91,1.91,0,0,1,.58,1.4,1.91,1.91,0,0,1-.58,1.4L9.25,21ZM18.45,9,17,7.55Zm-12,3A5.31,5.31,0,0,0,4.9,8.1,5.31,5.31,0,0,0,1,6.5,5.31,5.31,0,0,0,4.9,4.9,5.31,5.31,0,0,0,6.5,1,5.31,5.31,0,0,0,8.1,4.9,5.31,5.31,0,0,0,12,6.5,5.46,5.46,0,0,0,6.5,12Z\"/>\n",
              "  </svg>\n",
              "    </button>\n",
              "    <script>\n",
              "      (() => {\n",
              "      const buttonEl =\n",
              "        document.querySelector('#id_8d5d65bb-fc49-44d9-bad8-e4693258d907 button.colab-df-generate');\n",
              "      buttonEl.style.display =\n",
              "        google.colab.kernel.accessAllowed ? 'block' : 'none';\n",
              "\n",
              "      buttonEl.onclick = () => {\n",
              "        google.colab.notebook.generateWithVariable('dados');\n",
              "      }\n",
              "      })();\n",
              "    </script>\n",
              "  </div>\n",
              "\n",
              "    </div>\n",
              "  </div>\n"
            ],
            "application/vnd.google.colaboratory.intrinsic+json": {
              "type": "dataframe",
              "variable_name": "dados",
              "summary": "{\n  \"name\": \"dados\",\n  \"rows\": 29,\n  \"fields\": [\n    {\n      \"column\": \"Linguagem\",\n      \"properties\": {\n        \"dtype\": \"string\",\n        \"num_unique_values\": 29,\n        \"samples\": [\n          \"Cobol\",\n          \"Ruby\",\n          \"Kotlin\"\n        ],\n        \"semantic_type\": \"\",\n        \"description\": \"\"\n      }\n    },\n    {\n      \"column\": \"Pontos\",\n      \"properties\": {\n        \"dtype\": \"string\",\n        \"num_unique_values\": 29,\n        \"samples\": [\n          \" 0.14 %\",\n          \" 0.97 %\",\n          \" 1.93 %\"\n        ],\n        \"semantic_type\": \"\",\n        \"description\": \"\"\n      }\n    }\n  ]\n}"
            }
          },
          "metadata": {},
          "execution_count": 14
        }
      ]
    },
    {
      "cell_type": "code",
      "metadata": {
        "id": "nDTv2s4tD3-j"
      },
      "source": [],
      "execution_count": null,
      "outputs": []
    }
  ]
}